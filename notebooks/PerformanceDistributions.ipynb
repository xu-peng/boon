{
 "cells": [
  {
   "cell_type": "markdown",
   "metadata": {},
   "source": [
    "# Performance distributions of Resnet and the AS Reader\n",
    "\n",
    "author: Ondrej Bajgar (OBajgar@cz.ibm.com), IBM Watson\n",
    "\n",
    "paper: Bajgar, O., Kadlec, R., and Kleindienst, J. *A Boo(n) for Evaluating Architecture Performance*. ICML 2018.\n",
    "\n",
    "\n",
    "(What concerns content, this is a strict extension of what is provided in section *4. Experiment Results* from the ICML paper. If you want a condensed version, read the paper. If you want full details including code, continue reading this and you can skip the section in the paper.)"
   ]
  },
  {
   "cell_type": "markdown",
   "metadata": {},
   "source": [
    "To estimate the random variation of results, we repeatedly trained models from two domains of deep learning: the ResNet (He et al., 2016) on the CIFAR-100 dataset (Krizhevsky & Hinton, 2009) to represent image recognition and the Attention-Sum Reader (Kadlec et al., 2016) on the Children's Book Test - Common Nouns (Hill et al. 2016) to represent reading comprehension. \n",
    "\n",
    "We believe these two models are representative of models in their respective areas -- Resnet is based on a deep convolutional network architecture as most models in machine vision, while the AS Reader is based on a bidirectional GRU network with attention, as is the case for many models in Reading Comprehension and other areas of natural language processing.\n",
    "\n",
    "The full protocol of running the trainings will soon be added to a separate document in the repository (for now, see the description in the appendix of the paper). What is important for this analysis is that each run yields a pair of a validation and test performance. Let's load these results in the form of Pandas DataFrames:"
   ]
  },
  {
   "cell_type": "code",
   "execution_count": 2,
   "metadata": {
    "scrolled": true
   },
   "outputs": [],
   "source": [
    "import load_results\n",
    "# Results of Resnet on CIFAR100 with fixed hyperparameters\n",
    "resnet = load_results.cifar100_resnet()\n",
    "# Results of AS Reader on CBT CN with random hyperparameter search: \n",
    "cbtrs = load_results.cbt_rs()\n",
    "# Results of AS Reader on CBT CN with fixed hyperparameters:\n",
    "cbt, bv = load_results.cbt_fh()"
   ]
  },
  {
   "cell_type": "markdown",
   "metadata": {},
   "source": [
    "Specifically, we trained 74 instances of Resnet with fixed hyperparameters, 370 instances of the AS Reader with fixed hyperparameters, and 197 instances of the AS Reader with randomly sampled hyperparameters."
   ]
  },
  {
   "cell_type": "code",
   "execution_count": 3,
   "metadata": {},
   "outputs": [
    {
     "data": {
      "text/plain": [
       "(74, 370, 197)"
      ]
     },
     "execution_count": 3,
     "metadata": {},
     "output_type": "execute_result"
    }
   ],
   "source": [
    "len(resnet), len(cbt), len(cbtrs)"
   ]
  },
  {
   "cell_type": "markdown",
   "metadata": {},
   "source": [
    "Let's have a look at some basic properties of the distributions. "
   ]
  },
  {
   "cell_type": "code",
   "execution_count": 4,
   "metadata": {},
   "outputs": [
    {
     "data": {
      "text/html": [
       "<div>\n",
       "<style scoped>\n",
       "    .dataframe tbody tr th:only-of-type {\n",
       "        vertical-align: middle;\n",
       "    }\n",
       "\n",
       "    .dataframe tbody tr th {\n",
       "        vertical-align: top;\n",
       "    }\n",
       "\n",
       "    .dataframe thead th {\n",
       "        text-align: right;\n",
       "    }\n",
       "</style>\n",
       "<table border=\"1\" class=\"dataframe\">\n",
       "  <thead>\n",
       "    <tr style=\"text-align: right;\">\n",
       "      <th></th>\n",
       "      <th>AS Reader (fixed hp.)</th>\n",
       "      <th>AS Reader (random hp.)</th>\n",
       "      <th>Resnet (fixed hp.)</th>\n",
       "    </tr>\n",
       "  </thead>\n",
       "  <tbody>\n",
       "    <tr>\n",
       "      <th>count</th>\n",
       "      <td>370.000000</td>\n",
       "      <td>197.000000</td>\n",
       "      <td>74.000000</td>\n",
       "    </tr>\n",
       "    <tr>\n",
       "      <th>mean</th>\n",
       "      <td>0.631571</td>\n",
       "      <td>0.612571</td>\n",
       "      <td>0.684505</td>\n",
       "    </tr>\n",
       "    <tr>\n",
       "      <th>std</th>\n",
       "      <td>0.009365</td>\n",
       "      <td>0.024826</td>\n",
       "      <td>0.006324</td>\n",
       "    </tr>\n",
       "    <tr>\n",
       "      <th>min</th>\n",
       "      <td>0.598800</td>\n",
       "      <td>0.486400</td>\n",
       "      <td>0.670000</td>\n",
       "    </tr>\n",
       "    <tr>\n",
       "      <th>25%</th>\n",
       "      <td>0.626000</td>\n",
       "      <td>0.600800</td>\n",
       "      <td>0.680200</td>\n",
       "    </tr>\n",
       "    <tr>\n",
       "      <th>50%</th>\n",
       "      <td>0.631800</td>\n",
       "      <td>0.618000</td>\n",
       "      <td>0.684500</td>\n",
       "    </tr>\n",
       "    <tr>\n",
       "      <th>75%</th>\n",
       "      <td>0.638000</td>\n",
       "      <td>0.629600</td>\n",
       "      <td>0.689900</td>\n",
       "    </tr>\n",
       "    <tr>\n",
       "      <th>max</th>\n",
       "      <td>0.652800</td>\n",
       "      <td>0.658800</td>\n",
       "      <td>0.697600</td>\n",
       "    </tr>\n",
       "    <tr>\n",
       "      <th>interquartile</th>\n",
       "      <td>0.012000</td>\n",
       "      <td>0.028800</td>\n",
       "      <td>0.009700</td>\n",
       "    </tr>\n",
       "  </tbody>\n",
       "</table>\n",
       "</div>"
      ],
      "text/plain": [
       "               AS Reader (fixed hp.)  AS Reader (random hp.)  \\\n",
       "count                     370.000000              197.000000   \n",
       "mean                        0.631571                0.612571   \n",
       "std                         0.009365                0.024826   \n",
       "min                         0.598800                0.486400   \n",
       "25%                         0.626000                0.600800   \n",
       "50%                         0.631800                0.618000   \n",
       "75%                         0.638000                0.629600   \n",
       "max                         0.652800                0.658800   \n",
       "interquartile               0.012000                0.028800   \n",
       "\n",
       "               Resnet (fixed hp.)  \n",
       "count                   74.000000  \n",
       "mean                     0.684505  \n",
       "std                      0.006324  \n",
       "min                      0.670000  \n",
       "25%                      0.680200  \n",
       "50%                      0.684500  \n",
       "75%                      0.689900  \n",
       "max                      0.697600  \n",
       "interquartile            0.009700  "
      ]
     },
     "execution_count": 4,
     "metadata": {},
     "output_type": "execute_result"
    }
   ],
   "source": [
    "import pandas as pd\n",
    "summary = pd.DataFrame({'Resnet (fixed hp.)': resnet['Precision_test'].describe(), 'AS Reader (fixed hp.)': cbt['accuracy'].describe(), 'AS Reader (random hp.)': cbtrs['cbtest_CN_test_2500ex.txt_accuracy'].describe()})\n",
    "summary.loc[\"interquartile\",:]=summary.loc[\"75%\",:]-summary.loc[\"25%\",:]\n",
    "summary"
   ]
  },
  {
   "cell_type": "markdown",
   "metadata": {},
   "source": [
    "Let's plot the histograms:"
   ]
  },
  {
   "cell_type": "markdown",
   "metadata": {},
   "source": [
    "### Resnet:"
   ]
  },
  {
   "cell_type": "code",
   "execution_count": 5,
   "metadata": {
    "scrolled": true
   },
   "outputs": [
    {
     "data": {
      "image/png": "[encoded data removed]",
      "text/plain": [
       "<matplotlib.figure.Figure at 0x7f9f82c0ebd0>"
      ]
     },
     "metadata": {},
     "output_type": "display_data"
    }
   ],
   "source": [
    "%matplotlib inline\n",
    "import matplotlib.pyplot as plt\n",
    "\n",
    "f, ax = plt.subplots()\n",
    "ax.hist(resnet['Precision_test'], bins=12)\n",
    "ax.set_title('Fixed hyperparameters')\n",
    "ax.set_xlabel('Test accuracy of Resnet on CIFAR100')\n",
    "# The saved plots are then included in the paper.\n",
    "plt.savefig('figures/resnet_hist.pdf',format='pdf')"
   ]
  },
  {
   "cell_type": "markdown",
   "metadata": {},
   "source": [
    "### AS Reader"
   ]
  },
  {
   "cell_type": "code",
   "execution_count": 6,
   "metadata": {},
   "outputs": [
    {
     "data": {
      "image/png": "[encoded data removed]",
      "text/plain": [
       "<matplotlib.figure.Figure at 0x7f9f6ab1a5d0>"
      ]
     },
     "metadata": {},
     "output_type": "display_data"
    }
   ],
   "source": [
    "import numpy as np\n",
    "f, (ax1, ax2) = plt.subplots(2, sharex=True)#, sharey=True)\n",
    "splits=np.arange(0.54,0.66,0.005)\n",
    "\n",
    "ax2.set_title('Random hyper-parameter search')\n",
    "cbtrs['cbtest_CN_test_2500ex.txt_accuracy'].hist(bins=splits, histtype='bar', ax=ax2)\n",
    "\n",
    "ax1.set_title('Fixed hyperparameters')\n",
    "cbt['accuracy'].hist(bins=splits, histtype='bar', ax=ax1)\n",
    "ax2.set_xlabel('Test accuracy of the AS Reader on CBT CN')\n",
    "plt.savefig('figures/asreader_cbt_cn.pdf',format='pdf')"
   ]
  },
  {
   "cell_type": "markdown",
   "metadata": {},
   "source": [
    "## Comparison to improvements between published results\n",
    "\n",
    "To put the result variability in context, we looked at the differences in reported performance between published architectures on the two tasks as listed in two recent papers: Huang et al. (2017) for CIFAR and Munkhdalai and Yu (2017) for the Children's Book Test.\n",
    "\n",
    "On CIFAR-100, the models listed in the paper had the following error rates (which we convert to accuracies to match the rest of our results):"
   ]
  },
  {
   "cell_type": "code",
   "execution_count": 7,
   "metadata": {},
   "outputs": [
    {
     "data": {
      "text/plain": [
       "0.8599999999999994"
      ]
     },
     "execution_count": 7,
     "metadata": {},
     "output_type": "execute_result"
    }
   ],
   "source": [
    "cifar100_errors = np.array([33.71,34.57,32.39,23.3,23.73,27.22,24.58,22.07,20.50,24.33,22.71,17.18])\n",
    "cifar100_accuracies = 1.0 - cifar100_errors\n",
    "def median_delta(x):\n",
    "    x2 = np.sort(x)\n",
    "    deltas = x2[1:]-x2[:-1]\n",
    "    return np.median(deltas)\n",
    "median_delta(cifar100_accuracies)"
   ]
  },
  {
   "cell_type": "code",
   "execution_count": 8,
   "metadata": {},
   "outputs": [
    {
     "data": {
      "text/plain": [
       "1.1499999999999986"
      ]
     },
     "execution_count": 8,
     "metadata": {},
     "output_type": "execute_result"
    }
   ],
   "source": [
    "cbt_cn_accuracies = [63.,63.4,63.9,67.4,69.2,69.4,71.9]\n",
    "median_delta(cbt_cn_accuracies)"
   ]
  },
  {
   "cell_type": "markdown",
   "metadata": {},
   "source": [
    "With fixed hyper-parameters, the interquartile ranges of the models' error rates were $0.98\\%$ and $1.20\\%$ (absolute) while the median difference between subsequent published architectures is $0.86\\%$ and $1.48\\%$ respectively. \n",
    "\n",
    "Hence, the random variation even in a model with fixed hyperparameters cannot be considered negligible in the context of improvements reported for new architectures. Still, any consideration for this variability is currently often completely ommited from papers.\n",
    "\n",
    "Furthermore, if we allow the hyper-parameters to vary (in our case by random search), the result variance further increases, which further amplifies the outlined effects. In the case of the AS Reader the interquartile range increased to $2.9\\%$ when we randomly picked hyper-parameters from a range applicable to training the model on a single GPU. "
   ]
  },
  {
   "cell_type": "markdown",
   "metadata": {},
   "source": [
    "## Test-validation correlation\n",
    "\n",
    "To be added soon (within a week or so).\n",
    "\n",
    "\n",
    "## Performance improves with an increasing number of experiments\n",
    "\n",
    "To be added soon (within a week or so).\n"
   ]
  },
  {
   "cell_type": "markdown",
   "metadata": {},
   "source": [
    "## References\n",
    "\n",
    "He, K., Zhang, X., Ren, S., & Sun, J. *Deep residual learning for image recognition*. CVPR, 2016.\n",
    "\n",
    "Hill,  F.,  Bordes,  A.,  Chopra,  S.,  and  Weston,  J.    *The Goldilocks principle: Reading children’s books with ex-plicit memory representations*. ICLR, 2016\n",
    "\n",
    "Huang, G., Liu, Z., Weinberger, K. Q., and van der Maaten,L. *Densely connected convolutional networks*. CVPR, 2017.\n",
    "\n",
    "Kadlec, R., Schmid, M., Bajgar, O., and Kleindienst, J. *Text Understanding with the Attention-Sum Reader Network*. ACL, 2016.\n",
    "\n",
    "Krizhevsky, A. and Hinton, G. *Learning multiple layers offeatures from tiny images*. 2009.\n",
    "\n",
    "Munkhdalai, T. and Yu, H *Reasoning with memory augmented neural networks for language comprehension*. ICLR, 2017."
   ]
  },
  {
   "cell_type": "markdown",
   "metadata": {},
   "source": [
    "## License\n",
    "© Copyright IBM Corporation. 2018.\n",
    "\n",
    "Licensed under the Apache License, Version 2.0 (the \"License\");\n",
    "you may not use this file except in compliance with the License.\n",
    "You may obtain a copy of the License at\n",
    "\n",
    "    http://www.apache.org/licenses/LICENSE-2.0\n",
    "\n",
    "Unless required by applicable law or agreed to in writing, software\n",
    "distributed under the License is distributed on an \"AS IS\" BASIS,\n",
    "WITHOUT WARRANTIES OR CONDITIONS OF ANY KIND, either express or implied.\n",
    "See the License for the specific language governing permissions and\n",
    "limitations under the License."
   ]
  }
 ],
 "metadata": {
  "kernelspec": {
   "display_name": "Python 2",
   "language": "python",
   "name": "python2"
  },
  "language_info": {
   "codemirror_mode": {
    "name": "ipython",
    "version": 2
   },
   "file_extension": ".py",
   "mimetype": "text/x-python",
   "name": "python",
   "nbconvert_exporter": "python",
   "pygments_lexer": "ipython2",
   "version": "2.7.13"
  }
 },
 "nbformat": 4,
 "nbformat_minor": 2
}
